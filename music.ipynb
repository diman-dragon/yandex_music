{
 "cells": [
  {
   "cell_type": "code",
   "execution_count": 1,
   "metadata": {},
   "outputs": [],
   "source": [
    "import pandas as pd\n",
    "import numpy as np\n",
    "import json\n",
    "\n",
    "import time\n",
    "import datetime\n",
    "from datetime import timedelta"
   ]
  },
  {
   "cell_type": "code",
   "execution_count": 2,
   "metadata": {},
   "outputs": [],
   "source": [
    "covers = pd.read_csv('D:\\data_science\\yandex_music\\data\\covers.csv')\n",
    "lyrics = pd.read_csv('D:\\data_science\\yandex_music\\data\\lyrics.csv')\n",
    "meta = pd.read_csv('D:\\data_science\\yandex_music\\data\\meta.csv')\n",
    "meta['dttm'] = pd.to_datetime(meta['dttm'], unit=\"ms\")"
   ]
  },
  {
   "cell_type": "code",
   "execution_count": 3,
   "metadata": {},
   "outputs": [
    {
     "data": {
      "text/html": [
       "<div>\n",
       "<style scoped>\n",
       "    .dataframe tbody tr th:only-of-type {\n",
       "        vertical-align: middle;\n",
       "    }\n",
       "\n",
       "    .dataframe tbody tr th {\n",
       "        vertical-align: top;\n",
       "    }\n",
       "\n",
       "    .dataframe thead th {\n",
       "        text-align: right;\n",
       "    }\n",
       "</style>\n",
       "<table border=\"1\" class=\"dataframe\">\n",
       "  <thead>\n",
       "    <tr style=\"text-align: right;\">\n",
       "      <th></th>\n",
       "      <th>track_id</th>\n",
       "      <th>dttm</th>\n",
       "      <th>title</th>\n",
       "      <th>language</th>\n",
       "      <th>isrc</th>\n",
       "      <th>genres</th>\n",
       "      <th>duration</th>\n",
       "    </tr>\n",
       "  </thead>\n",
       "  <tbody>\n",
       "    <tr>\n",
       "      <th>0</th>\n",
       "      <td>c3b9d6a354ca008aa4518329aaa21380</td>\n",
       "      <td>2021-12-16 21:00:00</td>\n",
       "      <td>Happy New Year</td>\n",
       "      <td>EN</td>\n",
       "      <td>RUB422103970</td>\n",
       "      <td>['DANCE']</td>\n",
       "      <td>161120.0</td>\n",
       "    </tr>\n",
       "    <tr>\n",
       "      <th>1</th>\n",
       "      <td>c57e3d13bbbf5322584a7e92e6f1f7ff</td>\n",
       "      <td>2021-11-24 14:00:33</td>\n",
       "      <td>Bad Habits</td>\n",
       "      <td>EN</td>\n",
       "      <td>QZN882178276</td>\n",
       "      <td>['ELECTRONICS']</td>\n",
       "      <td>362260.0</td>\n",
       "    </tr>\n",
       "    <tr>\n",
       "      <th>2</th>\n",
       "      <td>955f2aafe8717908c140bf122ba4172d</td>\n",
       "      <td>2021-11-24 15:37:03</td>\n",
       "      <td>Por Esa Loca Vanidad</td>\n",
       "      <td>NaN</td>\n",
       "      <td>QZNJZ2122549</td>\n",
       "      <td>['FOLK', 'LATINFOLK']</td>\n",
       "      <td>260000.0</td>\n",
       "    </tr>\n",
       "    <tr>\n",
       "      <th>3</th>\n",
       "      <td>fae5a077c9956045955dde02143bd8ff</td>\n",
       "      <td>2021-11-24 15:37:03</td>\n",
       "      <td>Mil Lagrimas</td>\n",
       "      <td>NaN</td>\n",
       "      <td>QZNJZ2166033</td>\n",
       "      <td>['FOLK', 'LATINFOLK']</td>\n",
       "      <td>190000.0</td>\n",
       "    </tr>\n",
       "    <tr>\n",
       "      <th>4</th>\n",
       "      <td>6bede082154d34fc18d9a6744bc95bf5</td>\n",
       "      <td>2021-11-24 15:37:03</td>\n",
       "      <td>Sexo Humo y Alcohol</td>\n",
       "      <td>NaN</td>\n",
       "      <td>QZNJZ2122551</td>\n",
       "      <td>['FOLK', 'LATINFOLK']</td>\n",
       "      <td>203000.0</td>\n",
       "    </tr>\n",
       "  </tbody>\n",
       "</table>\n",
       "</div>"
      ],
      "text/plain": [
       "                           track_id                dttm                 title  \\\n",
       "0  c3b9d6a354ca008aa4518329aaa21380 2021-12-16 21:00:00        Happy New Year   \n",
       "1  c57e3d13bbbf5322584a7e92e6f1f7ff 2021-11-24 14:00:33            Bad Habits   \n",
       "2  955f2aafe8717908c140bf122ba4172d 2021-11-24 15:37:03  Por Esa Loca Vanidad   \n",
       "3  fae5a077c9956045955dde02143bd8ff 2021-11-24 15:37:03          Mil Lagrimas   \n",
       "4  6bede082154d34fc18d9a6744bc95bf5 2021-11-24 15:37:03   Sexo Humo y Alcohol   \n",
       "\n",
       "  language          isrc                 genres  duration  \n",
       "0       EN  RUB422103970              ['DANCE']  161120.0  \n",
       "1       EN  QZN882178276        ['ELECTRONICS']  362260.0  \n",
       "2      NaN  QZNJZ2122549  ['FOLK', 'LATINFOLK']  260000.0  \n",
       "3      NaN  QZNJZ2166033  ['FOLK', 'LATINFOLK']  190000.0  \n",
       "4      NaN  QZNJZ2122551  ['FOLK', 'LATINFOLK']  203000.0  "
      ]
     },
     "execution_count": 3,
     "metadata": {},
     "output_type": "execute_result"
    }
   ],
   "source": [
    "meta.head(5)"
   ]
  },
  {
   "cell_type": "code",
   "execution_count": 4,
   "metadata": {},
   "outputs": [
    {
     "name": "stdout",
     "output_type": "stream",
     "text": [
      "MIN: 2009-08-10 17:32:06\n",
      "MAX: 2023-10-18 21:00:00\n",
      "5182 days 03:27:54\n"
     ]
    }
   ],
   "source": [
    "print('MIN:', meta['dttm'].min())\n",
    "print('MAX:', meta['dttm'].max())\n",
    "print(meta['dttm'].max() - meta['dttm'].min())\n"
   ]
  },
  {
   "cell_type": "code",
   "execution_count": 5,
   "metadata": {},
   "outputs": [
    {
     "data": {
      "text/html": [
       "<div>\n",
       "<style scoped>\n",
       "    .dataframe tbody tr th:only-of-type {\n",
       "        vertical-align: middle;\n",
       "    }\n",
       "\n",
       "    .dataframe tbody tr th {\n",
       "        vertical-align: top;\n",
       "    }\n",
       "\n",
       "    .dataframe thead th {\n",
       "        text-align: right;\n",
       "    }\n",
       "</style>\n",
       "<table border=\"1\" class=\"dataframe\">\n",
       "  <thead>\n",
       "    <tr style=\"text-align: right;\">\n",
       "      <th></th>\n",
       "      <th>original_track_id</th>\n",
       "      <th>track_id</th>\n",
       "      <th>track_remake_type</th>\n",
       "    </tr>\n",
       "  </thead>\n",
       "  <tbody>\n",
       "    <tr>\n",
       "      <th>0</th>\n",
       "      <td>eeb69a3cb92300456b6a5f4162093851</td>\n",
       "      <td>eeb69a3cb92300456b6a5f4162093851</td>\n",
       "      <td>ORIGINAL</td>\n",
       "    </tr>\n",
       "    <tr>\n",
       "      <th>1</th>\n",
       "      <td>fe7ee8fc1959cc7214fa21c4840dff0a</td>\n",
       "      <td>fe7ee8fc1959cc7214fa21c4840dff0a</td>\n",
       "      <td>ORIGINAL</td>\n",
       "    </tr>\n",
       "    <tr>\n",
       "      <th>2</th>\n",
       "      <td>cd89fef7ffdd490db800357f47722b20</td>\n",
       "      <td>cd89fef7ffdd490db800357f47722b20</td>\n",
       "      <td>ORIGINAL</td>\n",
       "    </tr>\n",
       "    <tr>\n",
       "      <th>3</th>\n",
       "      <td>995665640dc319973d3173a74a03860c</td>\n",
       "      <td>995665640dc319973d3173a74a03860c</td>\n",
       "      <td>ORIGINAL</td>\n",
       "    </tr>\n",
       "    <tr>\n",
       "      <th>4</th>\n",
       "      <td>:null,</td>\n",
       "      <td>d6288499d0083cc34e60a077b7c4b3e1</td>\n",
       "      <td>COVER</td>\n",
       "    </tr>\n",
       "  </tbody>\n",
       "</table>\n",
       "</div>"
      ],
      "text/plain": [
       "                  original_track_id                          track_id  \\\n",
       "0  eeb69a3cb92300456b6a5f4162093851  eeb69a3cb92300456b6a5f4162093851   \n",
       "1  fe7ee8fc1959cc7214fa21c4840dff0a  fe7ee8fc1959cc7214fa21c4840dff0a   \n",
       "2  cd89fef7ffdd490db800357f47722b20  cd89fef7ffdd490db800357f47722b20   \n",
       "3  995665640dc319973d3173a74a03860c  995665640dc319973d3173a74a03860c   \n",
       "4                            :null,  d6288499d0083cc34e60a077b7c4b3e1   \n",
       "\n",
       "  track_remake_type  \n",
       "0          ORIGINAL  \n",
       "1          ORIGINAL  \n",
       "2          ORIGINAL  \n",
       "3          ORIGINAL  \n",
       "4             COVER  "
      ]
     },
     "execution_count": 5,
     "metadata": {},
     "output_type": "execute_result"
    }
   ],
   "source": [
    "covers.head(5)"
   ]
  },
  {
   "cell_type": "code",
   "execution_count": 6,
   "metadata": {},
   "outputs": [
    {
     "data": {
      "text/html": [
       "<div>\n",
       "<style scoped>\n",
       "    .dataframe tbody tr th:only-of-type {\n",
       "        vertical-align: middle;\n",
       "    }\n",
       "\n",
       "    .dataframe tbody tr th {\n",
       "        vertical-align: top;\n",
       "    }\n",
       "\n",
       "    .dataframe thead th {\n",
       "        text-align: right;\n",
       "    }\n",
       "</style>\n",
       "<table border=\"1\" class=\"dataframe\">\n",
       "  <thead>\n",
       "    <tr style=\"text-align: right;\">\n",
       "      <th></th>\n",
       "      <th>lyricId</th>\n",
       "      <th>track_id</th>\n",
       "      <th>text</th>\n",
       "    </tr>\n",
       "  </thead>\n",
       "  <tbody>\n",
       "    <tr>\n",
       "      <th>0</th>\n",
       "      <td>a951f9504e89759e9d23039b7b17ec14</td>\n",
       "      <td>1c4b1230f937e4c548ff732523214dcd</td>\n",
       "      <td>Живу сейчас обломами, обломками не той любви\\n...</td>\n",
       "    </tr>\n",
       "    <tr>\n",
       "      <th>1</th>\n",
       "      <td>0c749bc3f01eb8e6cf986fa14ccfc585</td>\n",
       "      <td>0faea89b0d7d6235b5b74def72511bd8</td>\n",
       "      <td>Tell me your fable\\nA fable\\nTell me your fabl...</td>\n",
       "    </tr>\n",
       "    <tr>\n",
       "      <th>2</th>\n",
       "      <td>e2c8830fbc86e5964478243099eec23a</td>\n",
       "      <td>9c6dc41d5ccd9968d07f055da5d8f741</td>\n",
       "      <td>You're ashamed about all your fears and doubts...</td>\n",
       "    </tr>\n",
       "    <tr>\n",
       "      <th>3</th>\n",
       "      <td>e2c8830fbc86e5964478243099eec23a</td>\n",
       "      <td>bfd04a73e9cffdf0e282c92219a86ea1</td>\n",
       "      <td>You're ashamed about all your fears and doubts...</td>\n",
       "    </tr>\n",
       "    <tr>\n",
       "      <th>4</th>\n",
       "      <td>7624653ca8522ba93470843c74961b7d</td>\n",
       "      <td>8d70930d09cd239c948408d1317d8659</td>\n",
       "      <td>You showed him all the best of you,\\nBut I'm a...</td>\n",
       "    </tr>\n",
       "  </tbody>\n",
       "</table>\n",
       "</div>"
      ],
      "text/plain": [
       "                            lyricId                          track_id  \\\n",
       "0  a951f9504e89759e9d23039b7b17ec14  1c4b1230f937e4c548ff732523214dcd   \n",
       "1  0c749bc3f01eb8e6cf986fa14ccfc585  0faea89b0d7d6235b5b74def72511bd8   \n",
       "2  e2c8830fbc86e5964478243099eec23a  9c6dc41d5ccd9968d07f055da5d8f741   \n",
       "3  e2c8830fbc86e5964478243099eec23a  bfd04a73e9cffdf0e282c92219a86ea1   \n",
       "4  7624653ca8522ba93470843c74961b7d  8d70930d09cd239c948408d1317d8659   \n",
       "\n",
       "                                                text  \n",
       "0  Живу сейчас обломами, обломками не той любви\\n...  \n",
       "1  Tell me your fable\\nA fable\\nTell me your fabl...  \n",
       "2  You're ashamed about all your fears and doubts...  \n",
       "3  You're ashamed about all your fears and doubts...  \n",
       "4  You showed him all the best of you,\\nBut I'm a...  "
      ]
     },
     "execution_count": 6,
     "metadata": {},
     "output_type": "execute_result"
    }
   ],
   "source": [
    "lyrics.head()"
   ]
  },
  {
   "cell_type": "code",
   "execution_count": null,
   "metadata": {},
   "outputs": [],
   "source": []
  },
  {
   "cell_type": "code",
   "execution_count": null,
   "metadata": {},
   "outputs": [],
   "source": []
  }
 ],
 "metadata": {
  "kernelspec": {
   "display_name": "Python 3",
   "language": "python",
   "name": "python3"
  },
  "language_info": {
   "codemirror_mode": {
    "name": "ipython",
    "version": 3
   },
   "file_extension": ".py",
   "mimetype": "text/x-python",
   "name": "python",
   "nbconvert_exporter": "python",
   "pygments_lexer": "ipython3",
   "version": "3.11.6"
  }
 },
 "nbformat": 4,
 "nbformat_minor": 2
}
